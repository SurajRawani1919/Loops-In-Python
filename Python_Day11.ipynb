{
 "cells": [
  {
   "cell_type": "code",
   "execution_count": 4,
   "id": "c96a7214-4bc5-4c85-b10f-49ea348ceab4",
   "metadata": {},
   "outputs": [
    {
     "name": "stdout",
     "output_type": "stream",
     "text": [
      "1,1\n",
      "1,2\n",
      "1,3\n",
      "1,4\n",
      "1,5\n",
      "1,6\n",
      "1,7\n",
      "1,8\n",
      "1,9\n",
      "1,10\n",
      "2,1\n",
      "2,2\n",
      "2,3\n",
      "2,4\n",
      "2,5\n",
      "2,6\n",
      "2,7\n",
      "2,8\n",
      "2,9\n",
      "2,10\n",
      "3,1\n",
      "3,2\n",
      "3,3\n",
      "3,4\n",
      "3,5\n",
      "3,6\n",
      "3,7\n",
      "3,8\n",
      "3,9\n",
      "3,10\n",
      "4,1\n",
      "4,2\n",
      "4,3\n",
      "4,4\n",
      "4,5\n",
      "4,6\n",
      "4,7\n",
      "4,8\n",
      "4,9\n",
      "4,10\n",
      "5,1\n",
      "5,2\n",
      "5,3\n",
      "5,4\n",
      "5,5\n",
      "5,6\n",
      "5,7\n",
      "5,8\n",
      "5,9\n",
      "5,10\n",
      "6,1\n",
      "6,2\n",
      "6,3\n",
      "6,4\n",
      "6,5\n",
      "6,6\n",
      "6,7\n",
      "6,8\n",
      "6,9\n",
      "6,10\n",
      "7,1\n",
      "7,2\n",
      "7,3\n",
      "7,4\n",
      "7,5\n",
      "7,6\n",
      "7,7\n",
      "7,8\n",
      "7,9\n",
      "7,10\n",
      "8,1\n",
      "8,2\n",
      "8,3\n",
      "8,4\n",
      "8,5\n",
      "8,6\n",
      "8,7\n",
      "8,8\n",
      "8,9\n",
      "8,10\n",
      "9,1\n",
      "9,2\n",
      "9,3\n",
      "9,4\n",
      "9,5\n",
      "9,6\n",
      "9,7\n",
      "9,8\n",
      "9,9\n",
      "9,10\n",
      "10,1\n",
      "10,2\n",
      "10,3\n",
      "10,4\n",
      "10,5\n",
      "10,6\n",
      "10,7\n",
      "10,8\n",
      "10,9\n",
      "10,10\n"
     ]
    }
   ],
   "source": [
    "\n",
    "\n",
    "#loops \n",
    "#for loops \n",
    "#while loop\n",
    "#nested loop : loop inside another loop \n",
    "#exampl\n",
    "\n",
    "for i in range(1,11):\n",
    "    for j in range (1,11):\n",
    "        print(f'{i},{j}')\n",
    "    "
   ]
  },
  {
   "cell_type": "code",
   "execution_count": 5,
   "id": "420765ba-2542-44a2-9883-d19f26512bc8",
   "metadata": {},
   "outputs": [],
   "source": [
    "#use of nested loop\n",
    "\n",
    "#to work with multi dimensional loop \n",
    "#to find out possible combonation \n",
    "\n"
   ]
  },
  {
   "cell_type": "code",
   "execution_count": 9,
   "id": "ac613b9a-8d44-49e2-aa54-e755bd36456d",
   "metadata": {},
   "outputs": [
    {
     "name": "stdout",
     "output_type": "stream",
     "text": [
      "L1-------1,L2---------1\n",
      "L1-------1,L2---------2\n",
      "L1-------1,L2---------3\n",
      "L1-------1,L2---------4\n",
      "L1-------1,L2---------5\n",
      "L1-------2,L2---------1\n",
      "L1-------2,L2---------2\n",
      "L1-------2,L2---------3\n",
      "L1-------2,L2---------4\n",
      "L1-------2,L2---------5\n",
      "L1-------3,L2---------1\n",
      "L1-------3,L2---------2\n",
      "L1-------3,L2---------3\n",
      "L1-------3,L2---------4\n",
      "L1-------3,L2---------5\n",
      "L1-------4,L2---------1\n",
      "L1-------4,L2---------2\n",
      "L1-------4,L2---------3\n",
      "L1-------4,L2---------4\n",
      "L1-------4,L2---------5\n",
      "L1-------5,L2---------1\n",
      "L1-------5,L2---------2\n",
      "L1-------5,L2---------3\n",
      "L1-------5,L2---------4\n",
      "L1-------5,L2---------5\n"
     ]
    }
   ],
   "source": [
    "l1=[1,2,3,4,5]\n",
    "l2=[1,2,3,4,5]\n",
    "for element1 in l1:\n",
    "    for element2 in l2:\n",
    "        print(f'L1-------{element1},L2---------{element2}')"
   ]
  },
  {
   "cell_type": "code",
   "execution_count": 10,
   "id": "2a754438-8b66-450b-a6eb-46d498c17728",
   "metadata": {},
   "outputs": [
    {
     "name": "stdout",
     "output_type": "stream",
     "text": [
      "str1 alphabet J, str2 alphabetD\n",
      "str1 alphabet J, str2 alphabete\n",
      "str1 alphabet J, str2 alphabetl\n",
      "str1 alphabet J, str2 alphabeth\n",
      "str1 alphabet J, str2 alphabeti\n",
      "str1 alphabet a, str2 alphabetD\n",
      "str1 alphabet a, str2 alphabete\n",
      "str1 alphabet a, str2 alphabetl\n",
      "str1 alphabet a, str2 alphabeth\n",
      "str1 alphabet a, str2 alphabeti\n",
      "str1 alphabet i, str2 alphabetD\n",
      "str1 alphabet i, str2 alphabete\n",
      "str1 alphabet i, str2 alphabetl\n",
      "str1 alphabet i, str2 alphabeth\n",
      "str1 alphabet i, str2 alphabeti\n",
      "str1 alphabet p, str2 alphabetD\n",
      "str1 alphabet p, str2 alphabete\n",
      "str1 alphabet p, str2 alphabetl\n",
      "str1 alphabet p, str2 alphabeth\n",
      "str1 alphabet p, str2 alphabeti\n",
      "str1 alphabet u, str2 alphabetD\n",
      "str1 alphabet u, str2 alphabete\n",
      "str1 alphabet u, str2 alphabetl\n",
      "str1 alphabet u, str2 alphabeth\n",
      "str1 alphabet u, str2 alphabeti\n",
      "str1 alphabet r, str2 alphabetD\n",
      "str1 alphabet r, str2 alphabete\n",
      "str1 alphabet r, str2 alphabetl\n",
      "str1 alphabet r, str2 alphabeth\n",
      "str1 alphabet r, str2 alphabeti\n"
     ]
    }
   ],
   "source": [
    "str1='Jaipur'\n",
    "str2='Delhi'\n",
    "for i in str1:\n",
    "    for j in str2:\n",
    "        print(f'str1 alphabet {i}, str2 alphabet{j}')"
   ]
  },
  {
   "cell_type": "code",
   "execution_count": 14,
   "id": "19eb6f0d-49ee-445e-ae6e-95eaa868790d",
   "metadata": {},
   "outputs": [
    {
     "name": "stdout",
     "output_type": "stream",
     "text": [
      "1,1\n",
      "2,1\n",
      "3,1\n",
      "4,1\n",
      "5,1\n",
      "6,1\n",
      "7,1\n",
      "8,1\n",
      "9,1\n",
      "10,1\n",
      "1,2\n",
      "2,2\n",
      "3,2\n",
      "4,2\n",
      "5,2\n",
      "6,2\n",
      "7,2\n",
      "8,2\n",
      "9,2\n",
      "10,2\n",
      "1,3\n",
      "2,3\n",
      "3,3\n",
      "4,3\n",
      "5,3\n",
      "6,3\n",
      "7,3\n",
      "8,3\n",
      "9,3\n",
      "10,3\n",
      "1,4\n",
      "2,4\n",
      "3,4\n",
      "4,4\n",
      "5,4\n",
      "6,4\n",
      "7,4\n",
      "8,4\n",
      "9,4\n",
      "10,4\n",
      "1,5\n",
      "2,5\n",
      "3,5\n",
      "4,5\n",
      "5,5\n",
      "6,5\n",
      "7,5\n",
      "8,5\n",
      "9,5\n",
      "10,5\n"
     ]
    }
   ],
   "source": [
    "t1=(1,2,3,4,5)\n",
    "t2=(1,2,3,4,5,6,7,8,9,10)\n",
    "for i in t1:\n",
    "    for j in t2:\n",
    "        print(f'{j},{i}')"
   ]
  },
  {
   "cell_type": "code",
   "execution_count": 16,
   "id": "6b5dba9c-c86c-48af-a3ad-94d95cc687e4",
   "metadata": {},
   "outputs": [
    {
     "name": "stdout",
     "output_type": "stream",
     "text": [
      "1\n",
      "2\n"
     ]
    }
   ],
   "source": [
    "#control statement\n",
    "#break\n",
    "# it helps to break the loop permaturely(time se phele)\n",
    "for i in range(1,6):\n",
    "    if i ==3:\n",
    "        break\n",
    "    print(i)"
   ]
  },
  {
   "cell_type": "code",
   "execution_count": 18,
   "id": "e92dcbce-7c81-4b41-a250-d1368a63ac8e",
   "metadata": {},
   "outputs": [
    {
     "name": "stdout",
     "output_type": "stream",
     "text": [
      "1\n",
      "2\n",
      "4\n",
      "5\n"
     ]
    }
   ],
   "source": [
    "#continue\n",
    "#skips that practicular value and continues with other values\n",
    "for i in range(1,6):\n",
    "    if i ==3:\n",
    "        continue\n",
    "    print(i)"
   ]
  },
  {
   "cell_type": "code",
   "execution_count": 19,
   "id": "6f75282d-caef-457e-bbb7-886e83f1a3e6",
   "metadata": {},
   "outputs": [
    {
     "name": "stdout",
     "output_type": "stream",
     "text": [
      "1\n",
      "2\n",
      "3\n",
      "loop finised\n"
     ]
    }
   ],
   "source": [
    "#else \n",
    "#excutes after the loop is finished \n",
    "\n",
    "for i in range(1,4):\n",
    "    print(i)\n",
    "else:\n",
    "    print(\"loop finised\")"
   ]
  },
  {
   "cell_type": "code",
   "execution_count": 20,
   "id": "9ee82292-578f-43ba-add2-930182b4e1f4",
   "metadata": {},
   "outputs": [
    {
     "name": "stdout",
     "output_type": "stream",
     "text": [
      "1\n",
      "2\n",
      "3\n",
      "4\n",
      "5\n"
     ]
    }
   ],
   "source": [
    "#pass\n",
    "#as it as \n",
    "for i in range(1,6):\n",
    "    if i == 3:\n",
    "        pass\n",
    "    print(i)"
   ]
  },
  {
   "cell_type": "code",
   "execution_count": 21,
   "id": "c06e6f30-3b2d-4c09-aa4c-8b92a401400b",
   "metadata": {},
   "outputs": [],
   "source": [
    "#infinite loop \n",
    "#while True\n",
    "    #print(\"infinite loop\")"
   ]
  },
  {
   "cell_type": "code",
   "execution_count": 22,
   "id": "7176c643-9600-4d27-a355-205bc11458a8",
   "metadata": {},
   "outputs": [
    {
     "name": "stdout",
     "output_type": "stream",
     "text": [
      "0 apple\n",
      "1 banana\n",
      "2 cherry\n"
     ]
    }
   ],
   "source": [
    "#enumerate function \n",
    "#when the values are required along with their corresponding index places\n",
    "\n",
    "fruits=['apple','banana','cherry']\n",
    "for index, fruit in enumerate(fruits):\n",
    "    print(index, fruit)"
   ]
  },
  {
   "cell_type": "code",
   "execution_count": 25,
   "id": "3fa2863f-6bca-48c1-9f7d-3621fbab75e2",
   "metadata": {},
   "outputs": [
    {
     "name": "stdout",
     "output_type": "stream",
     "text": [
      "name suraj\n",
      "class 12\n",
      "rollnumber 32\n"
     ]
    }
   ],
   "source": [
    "#accessing key and values \n",
    "d1={'name':'suraj','class':12, 'rollnumber':32}\n",
    "for key, value in d1.items():\n",
    "    print(key,value)"
   ]
  },
  {
   "cell_type": "code",
   "execution_count": 27,
   "id": "1f40b375-5d04-40bd-a9be-c7d870429c2a",
   "metadata": {},
   "outputs": [
    {
     "name": "stdout",
     "output_type": "stream",
     "text": [
      "[1, 4, 9, 16, 25, 36, 49, 64, 81, 100]\n",
      "[1, 2, 3, 4, 5, 6, 7, 8, 9, 10]\n"
     ]
    }
   ],
   "source": [
    "#create list, dictionary and set using loops \n",
    "#list comprehension \n",
    "#dictionary compewhension \n",
    "\n",
    "\n",
    "#list comp\n",
    "l1_square=[x**2 for x in range(1,11)]\n",
    "print(l1_square)\n",
    "\n",
    "l1_normal=[x for x in range(1,11)]\n",
    "print(l1_normal)"
   ]
  },
  {
   "cell_type": "code",
   "execution_count": 29,
   "id": "75341c88-c594-4f19-87fb-114fd51c6630",
   "metadata": {},
   "outputs": [
    {
     "name": "stdout",
     "output_type": "stream",
     "text": [
      "{64, 1, 4, 36, 100, 9, 16, 49, 81, 25}\n",
      "{1: 6, 2: 12, 3: 18, 4: 24, 5: 30, 6: 36, 7: 42, 8: 48, 9: 54, 10: 60}\n"
     ]
    }
   ],
   "source": [
    "#dict comp\n",
    "l1_square={x**2 for x in range(1,11)}\n",
    "print(l1_square)\n",
    "\n",
    "d1_6={x: x*6 for x in range(1,11)}\n",
    "print(d1_6)"
   ]
  },
  {
   "cell_type": "code",
   "execution_count": 31,
   "id": "b8240cc2-9475-4b2a-8806-8af0916e25ea",
   "metadata": {},
   "outputs": [
    {
     "name": "stdout",
     "output_type": "stream",
     "text": [
      "{64, 1, 4, 36, 100, 9, 16, 49, 81, 25}\n",
      "{100, 70, 40, 10, 80, 50, 20, 90, 60, 30}\n"
     ]
    }
   ],
   "source": [
    "#set comp\n",
    "set_square={x**2 for x in range(1,11)}\n",
    "print(set_square)\n",
    "\n",
    "set_10={x*10 for x in range(1,11)}\n",
    "print(set_10)"
   ]
  },
  {
   "cell_type": "code",
   "execution_count": null,
   "id": "11c3d1c8-2898-4866-bf50-550fe3c1db63",
   "metadata": {},
   "outputs": [],
   "source": []
  }
 ],
 "metadata": {
  "kernelspec": {
   "display_name": "Python 3 (ipykernel)",
   "language": "python",
   "name": "python3"
  },
  "language_info": {
   "codemirror_mode": {
    "name": "ipython",
    "version": 3
   },
   "file_extension": ".py",
   "mimetype": "text/x-python",
   "name": "python",
   "nbconvert_exporter": "python",
   "pygments_lexer": "ipython3",
   "version": "3.10.11"
  }
 },
 "nbformat": 4,
 "nbformat_minor": 5
}
